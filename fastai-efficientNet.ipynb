{
 "cells": [
  {
   "cell_type": "markdown",
   "metadata": {},
   "source": [
    "## augmentation \n",
    "- resize to a n * n dimension, using squished method (stretched)\n",
    "- randomize: brightness, zoom, warp when rotated, and flip\n",
    "\n",
    "## model\n",
    "efnet b0, b5 then assemble\n",
    "\n",
    "## training method\n",
    "fastai with efficient + progressive training + fp16\n",
    "then progressively trained from 128, 256, 368, 468 with 64,64,64,32,16 batch size respectively\n",
    "\n",
    "## loss function \n",
    "FocalLoss -> label smoothing cross entropy\n"
   ]
  },
  {
   "cell_type": "code",
   "execution_count": null,
   "metadata": {},
   "outputs": [],
   "source": [
    "import warnings\n",
    "warnings.filterwarnings(\"ignore\")\n",
    "\n",
    "from fastai.vision import *\n",
    "from fastai.metrics import error_rate\n",
    "from fastai.callbacks import *\n",
    "from fastai.vision.models.efficientnet import *\n",
    "\n",
    "import torch\n",
    "\n",
    "torch.cuda.empty_cache()"
   ]
  },
  {
   "cell_type": "code",
   "execution_count": 2,
   "metadata": {},
   "outputs": [],
   "source": [
    "#masukkin image dataset nya disini, tapi per folder harus ada labelnya\n",
    "#Reference Implementation fastai --->>> https://gilberttanner.com/blog/fastai-image-classification\n",
    "defaults.device = torch.device(\"cuda\")"
   ]
  },
  {
   "cell_type": "code",
   "execution_count": 3,
   "metadata": {},
   "outputs": [],
   "source": [
    "def get_data(bs, size): \n",
    "    tfms = get_transforms(max_lighting=0.4, max_zoom=1.2, max_warp=0.2, max_rotate=20, xtra_tfms=[flip_lr()])\n",
    "    return ImageDataBunch.from_folder(Path('./dataset'),\n",
    "                                  train = 'train/',\n",
    "                                  valid_pct = 0.1,\n",
    "                                  resize_method=ResizeMethod.SQUISH, \n",
    "                                  ds_tfms = tfms,\n",
    "                                  size = size,\n",
    "                                  bs = bs,\n",
    "                                  num_workers = 50\n",
    "                                  ).normalize(imagenet_stats)"
   ]
  },
  {
   "cell_type": "markdown",
   "metadata": {},
   "source": [
    "# 1. 128"
   ]
  },
  {
   "cell_type": "code",
   "execution_count": 4,
   "metadata": {},
   "outputs": [
    {
     "data": {
      "text/plain": [
       "(42, 42)"
      ]
     },
     "execution_count": 4,
     "metadata": {},
     "output_type": "execute_result"
    }
   ],
   "source": [
    "data = get_data(64, 128)\n",
    "\n",
    "len(data.classes), data.c"
   ]
  },
  {
   "cell_type": "code",
   "execution_count": 5,
   "metadata": {},
   "outputs": [
    {
     "name": "stdout",
     "output_type": "stream",
     "text": [
      "Loaded pretrained weights for efficientnet-b0\n"
     ]
    }
   ],
   "source": [
    "model = EfficientNet.from_pretrained('efficientnet-b0')\n",
    "# model"
   ]
  },
  {
   "cell_type": "code",
   "execution_count": 6,
   "metadata": {},
   "outputs": [],
   "source": [
    "model._fc = nn.Linear(model._fc.in_features, data.c)"
   ]
  },
  {
   "cell_type": "code",
   "execution_count": null,
   "metadata": {},
   "outputs": [],
   "source": [
    "from efficientnet_pytorch import EfficientNet\n",
    "\n",
    "def get_model(pretrained=True, **kwargs): \n",
    "    model = EfficientNet.from_pretrained('efficientnet-b0')\n",
    "    model._fc = nn.Linear(model._fc.in_features, data.c) # check the top most layer\n",
    "    return model \n",
    "\n",
    "def stage1(learn, data=None, epoch = 5):\n",
    "    if data: \n",
    "        learn.data=data\n",
    "        learn.to_fp16()\n",
    "        \n",
    "    learn.freeze()\n",
    "    learn.fit_one_cycle(epoch)\n",
    "    \n",
    "def stage2(learn, load_filename=None, epoch=5):\n",
    "    if load_filename: \n",
    "        learn.load(load_filename, purge=True)\n",
    "    learn.unfreeze()\n",
    "    learn.lr_find()\n",
    "    learn.recorder.plot(suggestion=True)\n",
    "    min_grad_lr = learn.recorder.min_grad_lr\n",
    "    learn.fit_one_cycle(epoch, slice(min_grad_lr/40, min_grad_lr))\n",
    "\n",
    "learn = Learner(data, model,\n",
    "               metrics = [accuracy], \n",
    "                bn_wd=False, #disable weight decay \n",
    "                loss_func = LabelSmoothingCrossEntropy(), \n",
    "                callback_fns=[BnFreeze,\n",
    "                             partial(SaveModelCallback, monitor='accuracy', name='most_accurate')],\n",
    "               path='./dataset').to_fp16() # because different clf layer, we use Learner.\n",
    "learn.split(lambda m: (model._conv_head,))"
   ]
  },
  {
   "cell_type": "code",
   "execution_count": null,
   "metadata": {},
   "outputs": [],
   "source": [
    "stage1(learn)\n"
   ]
  },
  {
   "cell_type": "code",
   "execution_count": null,
   "metadata": {},
   "outputs": [],
   "source": [
    "stage2(learn)"
   ]
  },
  {
   "cell_type": "code",
   "execution_count": null,
   "metadata": {},
   "outputs": [],
   "source": [
    "learn.save('b5-epoch5-128')\n",
    "learn.load('b5-epoch5-128', purge=True)\n",
    "\n"
   ]
  },
  {
   "cell_type": "markdown",
   "metadata": {},
   "source": [
    "# 2. 256"
   ]
  },
  {
   "cell_type": "code",
   "execution_count": null,
   "metadata": {},
   "outputs": [],
   "source": [
    "data = get_data(64, 256)\n",
    "learn.load('b5-epoch5-256', purge=True)\n",
    "learn.to_fp16()\n",
    "stage1(learn, data)\n",
    "stage2(learn)"
   ]
  },
  {
   "cell_type": "code",
   "execution_count": null,
   "metadata": {},
   "outputs": [],
   "source": [
    "learn.save('b5-epoch5-256')\n",
    "learn.load('b5-epoch5-256', purge=True)\n"
   ]
  },
  {
   "cell_type": "markdown",
   "metadata": {},
   "source": [
    "# 3. 368"
   ]
  },
  {
   "cell_type": "code",
   "execution_count": null,
   "metadata": {},
   "outputs": [],
   "source": [
    "# SINI\n",
    "data = get_data(32, 368)\n",
    "learn.load('b0-epoch5-384', purge=True)\n",
    "learn.to_fp16()\n",
    "stage1(learn, data)\n",
    "stage2(learn)"
   ]
  },
  {
   "cell_type": "code",
   "execution_count": null,
   "metadata": {},
   "outputs": [],
   "source": [
    "learn.save('b5-epoch5-368')"
   ]
  },
  {
   "cell_type": "markdown",
   "metadata": {},
   "source": [
    "# 4. 468"
   ]
  },
  {
   "cell_type": "code",
   "execution_count": null,
   "metadata": {},
   "outputs": [],
   "source": [
    "# SINI\n",
    "data = get_data(32, 368)\n",
    "learn.load('b0-epoch5-384', purge=True)\n",
    "learn.to_fp16()\n",
    "stage1(learn, data)\n",
    "stage2(learn)"
   ]
  },
  {
   "cell_type": "code",
   "execution_count": null,
   "metadata": {},
   "outputs": [],
   "source": [
    "learn.save('b5-epoch5-468')"
   ]
  },
  {
   "cell_type": "markdown",
   "metadata": {},
   "source": [
    "# 5. 512"
   ]
  },
  {
   "cell_type": "code",
   "execution_count": null,
   "metadata": {},
   "outputs": [],
   "source": [
    "# learn.load('b5-epoch5-468', purge=True)\n",
    "data = get_data(16, 512)\n",
    "learn.load('b5-epoch5-468', purge=True)\n",
    "learn.data=data\n",
    "learn.to_fp16()\n",
    "stage1(learn, data)\n",
    "stage2(learn,epoch=6)"
   ]
  },
  {
   "cell_type": "code",
   "execution_count": null,
   "metadata": {},
   "outputs": [],
   "source": [
    "learn.save('b0 final ')\n",
    "learn.export('b0')"
   ]
  },
  {
   "cell_type": "code",
   "execution_count": null,
   "metadata": {
    "scrolled": true
   },
   "outputs": [],
   "source": [
    "data = get_data(16, 512)\n",
    "learn.load('b0 final ', purge=True)\n",
    "learn.data = data\n",
    "learn.to_fp16()\n",
    "stage1(learn,epoch=6)\n",
    "learn.save('b0 final-1')"
   ]
  },
  {
   "cell_type": "code",
   "execution_count": 9,
   "metadata": {},
   "outputs": [
    {
     "data": {
      "text/plain": [
       "0"
      ]
     },
     "execution_count": 9,
     "metadata": {},
     "output_type": "execute_result"
    }
   ],
   "source": [
    "import os\n",
    "os.system('python finish_me.py')"
   ]
  },
  {
   "cell_type": "code",
   "execution_count": 8,
   "metadata": {},
   "outputs": [
    {
     "data": {
      "text/html": [
       "\n",
       "    <div>\n",
       "        <style>\n",
       "            /* Turns off some styling */\n",
       "            progress {\n",
       "                /* gets rid of default border in Firefox and Opera. */\n",
       "                border: none;\n",
       "                /* Needs to be in here for Safari polyfill so background images work as expected. */\n",
       "                background-size: auto;\n",
       "            }\n",
       "            .progress-bar-interrupted, .progress-bar-interrupted::-webkit-progress-bar {\n",
       "                background: #F44336;\n",
       "            }\n",
       "        </style>\n",
       "      <progress value='0' class='' max='1' style='width:300px; height:20px; vertical-align: middle;'></progress>\n",
       "      0.00% [0/1 00:00<00:00]\n",
       "    </div>\n",
       "    \n",
       "<table border=\"1\" class=\"dataframe\">\n",
       "  <thead>\n",
       "    <tr style=\"text-align: left;\">\n",
       "      <th>epoch</th>\n",
       "      <th>train_loss</th>\n",
       "      <th>valid_loss</th>\n",
       "      <th>accuracy</th>\n",
       "      <th>time</th>\n",
       "    </tr>\n",
       "  </thead>\n",
       "  <tbody>\n",
       "  </tbody>\n",
       "</table><p>\n",
       "\n",
       "    <div>\n",
       "        <style>\n",
       "            /* Turns off some styling */\n",
       "            progress {\n",
       "                /* gets rid of default border in Firefox and Opera. */\n",
       "                border: none;\n",
       "                /* Needs to be in here for Safari polyfill so background images work as expected. */\n",
       "                background-size: auto;\n",
       "            }\n",
       "            .progress-bar-interrupted, .progress-bar-interrupted::-webkit-progress-bar {\n",
       "                background: #F44336;\n",
       "            }\n",
       "        </style>\n",
       "      <progress value='83' class='' max='5928' style='width:300px; height:20px; vertical-align: middle;'></progress>\n",
       "      1.40% [83/5928 00:55<1:05:35 4.9265]\n",
       "    </div>\n",
       "    "
      ],
      "text/plain": [
       "<IPython.core.display.HTML object>"
      ]
     },
     "metadata": {},
     "output_type": "display_data"
    },
    {
     "name": "stdout",
     "output_type": "stream",
     "text": [
      "LR Finder is complete, type {learner_name}.recorder.plot() to see the graph.\n",
      "Min numerical gradient: 6.31E-07\n",
      "Min loss divided by 10: 7.59E-08\n"
     ]
    },
    {
     "data": {
      "text/html": [
       "<table border=\"1\" class=\"dataframe\">\n",
       "  <thead>\n",
       "    <tr style=\"text-align: left;\">\n",
       "      <th>epoch</th>\n",
       "      <th>train_loss</th>\n",
       "      <th>valid_loss</th>\n",
       "      <th>accuracy</th>\n",
       "      <th>time</th>\n",
       "    </tr>\n",
       "  </thead>\n",
       "  <tbody>\n",
       "    <tr>\n",
       "      <td>0</td>\n",
       "      <td>1.359770</td>\n",
       "      <td>1.179092</td>\n",
       "      <td>0.868678</td>\n",
       "      <td>49:36</td>\n",
       "    </tr>\n",
       "    <tr>\n",
       "      <td>1</td>\n",
       "      <td>1.318135</td>\n",
       "      <td>1.176489</td>\n",
       "      <td>0.869342</td>\n",
       "      <td>49:55</td>\n",
       "    </tr>\n",
       "    <tr>\n",
       "      <td>2</td>\n",
       "      <td>1.296440</td>\n",
       "      <td>1.175781</td>\n",
       "      <td>0.870671</td>\n",
       "      <td>49:57</td>\n",
       "    </tr>\n",
       "    <tr>\n",
       "      <td>3</td>\n",
       "      <td>1.336471</td>\n",
       "      <td>1.175156</td>\n",
       "      <td>0.869722</td>\n",
       "      <td>49:06</td>\n",
       "    </tr>\n",
       "    <tr>\n",
       "      <td>4</td>\n",
       "      <td>1.310309</td>\n",
       "      <td>1.174974</td>\n",
       "      <td>0.871240</td>\n",
       "      <td>49:06</td>\n",
       "    </tr>\n",
       "  </tbody>\n",
       "</table>"
      ],
      "text/plain": [
       "<IPython.core.display.HTML object>"
      ]
     },
     "metadata": {},
     "output_type": "display_data"
    },
    {
     "name": "stdout",
     "output_type": "stream",
     "text": [
      "Better model found at epoch 0 with accuracy value: 0.8686782717704773.\n",
      "Better model found at epoch 1 with accuracy value: 0.8693424463272095.\n",
      "Better model found at epoch 2 with accuracy value: 0.8706708550453186.\n",
      "Better model found at epoch 4 with accuracy value: 0.8712401390075684.\n"
     ]
    },
    {
     "data": {
      "image/png": "[encoded data removed]",
      "text/plain": [
       "<Figure size 432x288 with 1 Axes>"
      ]
     },
     "metadata": {
      "needs_background": "light"
     },
     "output_type": "display_data"
    }
   ],
   "source": [
    "# learn.load('b5-epoch5-468', purge=True)\n",
    "# stage1(learn, data)\n",
    "learn.load('b0 final-1', purge=True)\n",
    "data = get_data(16, 512)\n",
    "\n",
    "learn.data=data\n",
    "learn.to_fp16()\n",
    "\n",
    "stage2(learn,epoch=5)"
   ]
  },
  {
   "cell_type": "code",
   "execution_count": 9,
   "metadata": {},
   "outputs": [
    {
     "data": {
      "text/plain": [
       "0"
      ]
     },
     "execution_count": 9,
     "metadata": {},
     "output_type": "execute_result"
    }
   ],
   "source": [
    "import os\n",
    "os.system('python finish_me.py')"
   ]
  },
  {
   "cell_type": "code",
   "execution_count": null,
   "metadata": {},
   "outputs": [],
   "source": [
    "def make_submission(learn, filename):\n",
    "    log_preds, test_labels = learn.get_preds(ds_type=DatasetType.Test)\n",
    "    preds = np.argmax(log_preds, 1)\n",
    "    a = np.array(preds)\n",
    "    submission = pd.DataFrame({'image_name': os.listdir('data/test'), 'label': a})\n",
    "    submission.to_csv(path/filename, index=False)"
   ]
  }
 ],
 "metadata": {
  "kernelspec": {
   "display_name": "Python 3",
   "language": "python",
   "name": "python3"
  },
  "language_info": {
   "codemirror_mode": {
    "name": "ipython",
    "version": 3
   },
   "file_extension": ".py",
   "mimetype": "text/x-python",
   "name": "python",
   "nbconvert_exporter": "python",
   "pygments_lexer": "ipython3",
   "version": "3.6.9"
  }
 },
 "nbformat": 4,
 "nbformat_minor": 4
}
