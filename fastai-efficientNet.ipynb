{
 "cells": [
  {
   "cell_type": "code",
   "execution_count": null,
   "metadata": {},
   "outputs": [],
   "source": [
    "import warnings\n",
    "warnings.filterwarnings(\"ignore\")\n",
    "\n",
    "from fastai.vision import *\n",
    "from fastai.metrics import error_rate\n",
    "from fastai.callbacks import *\n",
    "from fastai.vision.models.efficientnet import *\n",
    "import torch\n",
    "\n",
    "torch.cuda.empty_cache()"
   ]
  },
  {
   "cell_type": "code",
   "execution_count": null,
   "metadata": {},
   "outputs": [],
   "source": [
    "#masukkin image dataset nya disini, tapi per folder harus ada labelnya\n",
    "#Reference Implementation fastai --->>> https://gilberttanner.com/blog/fastai-image-classification\n",
    "\n",
    "defaults.device = torch.device(\"cuda\")\n",
    "\n",
    "\n"
   ]
  },
  {
   "cell_type": "code",
   "execution_count": null,
   "metadata": {},
   "outputs": [],
   "source": [
    "def get_data(bs, size): \n",
    "    tfms = get_transforms(max_lighting=0.4, max_zoom=1.2, max_warp=0.2, max_rotate=20, xtra_tfms=[flip_lr()])\n",
    "    return ImageDataBunch.from_folder(Path('./dataset'),\n",
    "                                  train = 'train/',\n",
    "                                  valid_pct = 0.1,\n",
    "                                  resize_method=ResizeMethod.SQUISH, \n",
    "                                  ds_tfms = tfms,\n",
    "                                  size = size,\n",
    "                                  bs = bs,\n",
    "                                  num_workers = 50\n",
    "                                  ).normalize(imagenet_stats)"
   ]
  },
  {
   "cell_type": "code",
   "execution_count": null,
   "metadata": {},
   "outputs": [],
   "source": [
    "data = get_data(64, 128)\n",
    "\n",
    "len(data.classes), data.c"
   ]
  },
  {
   "cell_type": "code",
   "execution_count": null,
   "metadata": {},
   "outputs": [],
   "source": [
    "model = EfficientNet.from_pretrained('efficientnet-b5')\n",
    "# model"
   ]
  },
  {
   "cell_type": "code",
   "execution_count": null,
   "metadata": {},
   "outputs": [],
   "source": [
    "model._fc = nn.Linear(model._fc.in_features, data.c)"
   ]
  },
  {
   "cell_type": "code",
   "execution_count": null,
   "metadata": {},
   "outputs": [],
   "source": [
    "from efficientnet_pytorch import EfficientNet\n",
    "\n",
    "def get_model(pretrained=True, **kwargs): \n",
    "    model = EfficientNet.from_pretrained('efficientnet-b5')\n",
    "    model._fc = nn.Linear(model._fc.in_features, data.c) # check the top most layer\n",
    "    return model \n",
    "\n",
    "def stage1(learn, data=None):\n",
    "    if data: \n",
    "        learn.data=data\n",
    "        learn.to_fp16()\n",
    "        \n",
    "    learn.freeze()\n",
    "    learn.fit_one_cycle(5)\n",
    "    \n",
    "def stage2(learn, load_filename=None):\n",
    "    if load_filename: \n",
    "        learn.load(load_filename, purge=True)\n",
    "    learn.unfreeze()\n",
    "    learn.lr_find()\n",
    "    learn.recorder.plot(suggestion=True)\n",
    "    min_grad_lr = learn.recorder.min_grad_lr\n",
    "    learn.fit_one_cycle(5, slice(min_grad_lr/40, min_grad_lr))\n",
    "\n",
    "learn = Learner(data, model,\n",
    "               metrics = [accuracy], \n",
    "                bn_wd=False, #disable weight decay \n",
    "                loss_func = LabelSmoothingCrossEntropy(), \n",
    "                callback_fns=[BnFreeze,\n",
    "                             partial(SaveModelCallback, monitor='accuracy', name='most_accurate')],\n",
    "               path='./dataset').to_fp16() # because different clf layer, we use Learner.\n",
    "learn.split(lambda m: (model._conv_head,))"
   ]
  },
  {
   "cell_type": "code",
   "execution_count": null,
   "metadata": {},
   "outputs": [],
   "source": [
    "stage1(learn)\n"
   ]
  },
  {
   "cell_type": "code",
   "execution_count": null,
   "metadata": {},
   "outputs": [],
   "source": [
    "stage2(learn)"
   ]
  },
  {
   "cell_type": "code",
   "execution_count": null,
   "metadata": {},
   "outputs": [],
   "source": [
    "learn.save('b5-epoch5-128')\n",
    "learn.load('b5-epoch5-128', purge=True)\n",
    "\n"
   ]
  },
  {
   "cell_type": "code",
   "execution_count": null,
   "metadata": {},
   "outputs": [],
   "source": [
    "data = get_data(64, 256)learn.save('b5-epoch5-128')\n",
    "learn.load('b5-epoch5-128', purge=True)\n",
    "stage1(learn, data)"
   ]
  },
  {
   "cell_type": "code",
   "execution_count": null,
   "metadata": {},
   "outputs": [],
   "source": [
    "stage2(learn)"
   ]
  },
  {
   "cell_type": "code",
   "execution_count": null,
   "metadata": {},
   "outputs": [],
   "source": [
    "learn.save('b5-epoch5-256')\n",
    "learn.load('b5-epoch5-256', purge=True)\n"
   ]
  },
  {
   "cell_type": "code",
   "execution_count": null,
   "metadata": {},
   "outputs": [],
   "source": [
    "data = get_data(16, 384)\n",
    "stage1(learn, data)"
   ]
  },
  {
   "cell_type": "code",
   "execution_count": null,
   "metadata": {},
   "outputs": [],
   "source": [
    "stage2(learn)"
   ]
  },
  {
   "cell_type": "code",
   "execution_count": null,
   "metadata": {},
   "outputs": [],
   "source": [
    "learn.save('b5-epoch5-256')\n",
    "learn.load('b5-epoch5-256', purge=True)\n"
   ]
  },
  {
   "cell_type": "code",
   "execution_count": null,
   "metadata": {},
   "outputs": [],
   "source": [
    "def make_submission(learn, filename):\n",
    "  log_preds, test_labels = learn.get_preds(ds_type=DatasetType.Test)\n",
    "  preds = np.argmax(log_preds, 1)\n",
    "  a = np.array(preds)\n",
    "  submission = pd.DataFrame({'image_name': os.listdir('data/test'), 'label': a})\n",
    "  submission.to_csv(path/filename, index=False)"
   ]
  }
 ],
 "metadata": {
  "kernelspec": {
   "display_name": "Python 3",
   "language": "python",
   "name": "python3"
  },
  "language_info": {
   "codemirror_mode": {
    "name": "ipython",
    "version": 3
   },
   "file_extension": ".py",
   "mimetype": "text/x-python",
   "name": "python",
   "nbconvert_exporter": "python",
   "pygments_lexer": "ipython3",
   "version": "3.6.9"
  }
 },
 "nbformat": 4,
 "nbformat_minor": 4
}
