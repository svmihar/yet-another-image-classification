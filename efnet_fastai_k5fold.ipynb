{
 "cells": [
  {
   "cell_type": "code",
   "execution_count": 1,
   "metadata": {},
   "outputs": [
    {
     "name": "stdout",
     "output_type": "stream",
     "text": [
      "  Running command git clone -q https://github.com/fastai/fastcore /tmp/pip-req-build-uwnehf2r\n",
      "  Running command git clone -q https://github.com/fastai/fastai2 /tmp/pip-req-build-z9v7iauk\n",
      "\u001b[31mERROR: Could not install packages due to an EnvironmentError: [Errno 28] No space left on device\n",
      "\u001b[0m\n"
     ]
    }
   ],
   "source": [
    "!pip install git+https://github.com/fastai/fastcore > /dev/null\n",
    "!pip install git+https://github.com/fastai/fastai2 > /dev/null\n",
    "!pip install iterative-stratification > /dev/null"
   ]
  },
  {
   "cell_type": "code",
   "execution_count": null,
   "metadata": {},
   "outputs": [],
   "source": [
    "# https://www.kaggle.com/lextoumbourou/plant-pathology-2020-eda-training-fastai2"
   ]
  },
  {
   "cell_type": "code",
   "execution_count": null,
   "metadata": {},
   "outputs": [],
   "source": [
    "!pip install efficientnet-pytorch"
   ]
  },
  {
   "cell_type": "code",
   "execution_count": null,
   "metadata": {},
   "outputs": [],
   "source": [
    "%load_ext autoreload\n",
    "%autoreload 2\n",
    "\n",
    "import os\n",
    "import pandas as pd\n",
    "import sys\n",
    "from collections import Counter\n",
    "from pathlib import Path\n",
    "\n",
    "from iterstrat.ml_stratifiers import MultilabelStratifiedKFold\n",
    "from tqdm.notebook import tqdm\n",
    "from torchvision.models import densenet121\n",
    "from sklearn.metrics import roc_auc_score\n",
    "from torch.utils.data.sampler import WeightedRandomSampler\n",
    "\n",
    "from fastai2.basics import *\n",
    "from fastai2.callback.all import *\n",
    "from fastai2.vision.all import *\n",
    "\n",
    "from efficientnet_pytorch import EfficientNet"
   ]
  },
  {
   "cell_type": "code",
   "execution_count": null,
   "metadata": {},
   "outputs": [],
   "source": [
    "def comp_metric(preds, targs, labels=range(len(LABEL_COLS))):\n",
    "    # One-hot encode targets\n",
    "    targs = np.eye(4)[targs]\n",
    "    return np.mean([roc_auc_score(targs[:,i], preds[:,i]) for i in labels])\n",
    "\n",
    "def healthy_roc_auc(*args):\n",
    "    return comp_metric(*args, labels=[0])\n",
    "\n",
    "def multiple_diseases_roc_auc(*args):\n",
    "    return comp_metric(*args, labels=[1])\n",
    "\n",
    "def rust_roc_auc(*args):\n",
    "    return comp_metric(*args, labels=[2])\n",
    "\n",
    "def scab_roc_auc(*args):\n",
    "    return comp_metric(*args, labels=[3])\n",
    "\n",
    "def get_learner(fold_num, lr=1e-3):\n",
    "    opt_func = partial(Adam, lr=lr, wd=0.01, eps=1e-8)\n",
    "\n",
    "    data = get_data(fold_num)\n",
    "    \n",
    "    model = EfficientNet.from_pretrained(\"efficientnet-b7\", advprop=True)\n",
    "    #model = EfficientNet.from_name(\"efficientnet-b7\")\n",
    "    #model = EfficientNet.from_pretrained(\"efficientnet-b8\", advprop=True) # weights run to NaN\n",
    "    #model = EfficientNet.from_name('efficientnet-b4') \n",
    "    #model._fc = nn.Linear(1280, data.c)# the last layer... # works for b0,b1\n",
    "    #model._fc = nn.Linear(1536, data.c)# the last layer... B3b\n",
    "    #model._fc = nn.Linear(1792, data.c)# the last layer... B4\n",
    "    #model._fc = nn.Linear(2048, data.c)# the last layer... B5\n",
    "    #model._fc = nn.Linear(2304, data.c)# the last layer... B6\n",
    "    model._fc = nn.Linear(2560, data.c)# the last layer... B7\n",
    "    #model._fc = nn.Linear(2816, data.c)# the last layer... B8\n",
    "\n",
    "    learn = Learner(\n",
    "        dls, model, opt_func=opt_func,\n",
    "        loss_func=LabelSmoothingCrossEntropy(),\n",
    "        #callback_fns = [partial(OverSamplingCallback)],  \n",
    "        metrics=[\n",
    "            AccumMetric(healthy_roc_auc, flatten=False),\n",
    "            AccumMetric(multiple_diseases_roc_auc, flatten=False),\n",
    "            AccumMetric(rust_roc_auc, flatten=False),\n",
    "            AccumMetric(scab_roc_auc, flatten=False),\n",
    "            AccumMetric(comp_metric, flatten=False)]\n",
    "        ).to_fp16()\n",
    "    return learn"
   ]
  },
  {
   "cell_type": "code",
   "execution_count": null,
   "metadata": {},
   "outputs": [],
   "source": [
    "get_learner(fold_num=0).lr_find()"
   ]
  },
  {
   "cell_type": "code",
   "execution_count": null,
   "metadata": {},
   "outputs": [],
   "source": [
    "ef print_metrics(val_preds, val_labels):\n",
    "    comp_metric_fold = comp_metric(val_preds, val_labels)\n",
    "    print(f'Comp metric: {comp_metric_fold}')\n",
    "    \n",
    "    healthy_roc_auc_metric = healthy_roc_auc(val_preds, val_labels)\n",
    "    print(f'Healthy metric: {healthy_roc_auc_metric}')\n",
    "    \n",
    "    multiple_diseases_roc_auc_metric = multiple_diseases_roc_auc(val_preds, val_labels)\n",
    "    print(f'Multi disease: {multiple_diseases_roc_auc_metric}')\n",
    "    \n",
    "    rust_roc_auc_metric = rust_roc_auc(val_preds, val_labels)\n",
    "    print(f'Rust metric: {rust_roc_auc_metric}')\n",
    "    \n",
    "    scab_roc_auc_metric = scab_roc_auc(val_preds, val_labels)\n",
    "    print(f'Scab metric: {scab_roc_auc_metric}')"
   ]
  },
  {
   "cell_type": "code",
   "execution_count": null,
   "metadata": {},
   "outputs": [],
   "source": [
    "all_val_preds = []\n",
    "all_val_labels = []\n",
    "all_test_preds = []\n",
    "\n",
    "for i in range(N_FOLDS):\n",
    "    print(f'Fold {i} results')\n",
    "\n",
    "    learn = get_learner(fold_num=i)\n",
    "\n",
    "    #learn.fit_one_cycle(5)\n",
    "    learn.fit_one_cycle(1)\n",
    "    learn.unfreeze()\n",
    "\n",
    "    #learn.fit_one_cycle(6, slice(1e-5, 1e-4))\n",
    "    learn.fit_one_cycle(1, slice(1e-5, 1e-4))\n",
    "    \n",
    "    learn.recorder.plot_loss()\n",
    "    \n",
    "    learn.save(f'model_fold_{i}')\n",
    "    \n",
    "    learn.freeze()\n",
    "    \n",
    "    learn.data = get_data_larger(i)\n",
    "    \n",
    "    lr_min,_ = learn.lr_find()\n",
    "    \n",
    "    #learn.fit_one_cycle(5, slice(lr_min))\n",
    "    learn.fit_one_cycle(1, slice(lr_min))\n",
    "    \n",
    "    val_preds, val_labels = learn.get_preds()\n",
    "    \n",
    "    print_metrics(val_preds, val_labels)\n",
    "    \n",
    "    all_val_preds.append(val_preds)\n",
    "    all_val_labels.append(val_labels)\n",
    "    \n",
    "    test_dl = dls.test_dl(test_df)\n",
    "    test_preds, _ = learn.get_preds(dl=test_dl)\n",
    "    all_test_preds.append(test_preds)\n",
    "    \n",
    "plt.show()"
   ]
  }
 ],
 "metadata": {
  "kernelspec": {
   "display_name": "Python 3",
   "language": "python",
   "name": "python3"
  },
  "language_info": {
   "codemirror_mode": {
    "name": "ipython",
    "version": 3
   },
   "file_extension": ".py",
   "mimetype": "text/x-python",
   "name": "python",
   "nbconvert_exporter": "python",
   "pygments_lexer": "ipython3",
   "version": "3.6.9"
  }
 },
 "nbformat": 4,
 "nbformat_minor": 4
}
